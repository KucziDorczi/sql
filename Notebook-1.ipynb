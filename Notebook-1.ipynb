{
    "metadata": {
        "kernelspec": {
            "name": "SQL",
            "display_name": "SQL",
            "language": "sql"
        },
        "language_info": {
            "name": "sql",
            "version": ""
        }
    },
    "nbformat_minor": 2,
    "nbformat": 4,
    "cells": [
        {
            "cell_type": "code",
            "source": [
                "--1. feladat\r\n",
                "https://github.com/KucziDorczi/sql.git\r\n",
                "\r\n",
                ""
            ],
            "metadata": {
                "azdata_cell_guid": "77cca5b7-c874-481f-998e-4a7d38f2e9b2",
                "language": "sql"
            },
            "outputs": [
                {
                    "output_type": "error",
                    "evalue": "Msg 8120, Level 16, State 1, Line 3\r\nColumn 'szallashely.SZALLAS_ID' is invalid in the select list because it is not contained in either an aggregate function or the GROUP BY clause.",
                    "ename": "",
                    "traceback": []
                },
                {
                    "output_type": "display_data",
                    "data": {
                        "text/html": "Total execution time: 00:00:00.002"
                    },
                    "metadata": {}
                }
            ],
            "execution_count": 6
        },
        {
            "cell_type": "code",
            "source": [
                "--2. feladat\r\n",
                "SELECT szh.SZALLAS_ID, szh.SZALLAS_NEV, COUNT(KLIMAS) AS \"db\"\r\n",
                "FROM szallashely szh JOIN Szoba sz ON szh.SZALLAS_ID = sz.SZALLAS_FK\r\n",
                "WHERE KLIMAS IS NOT NULL\r\n",
                "GROUP BY szh.SZALLAS_ID"
            ],
            "metadata": {
                "azdata_cell_guid": "42967b58-6cda-4b99-b611-9808ab3c4098",
                "language": "sql"
            },
            "outputs": [
                {
                    "output_type": "error",
                    "evalue": "Msg 8120, Level 16, State 1, Line 2\r\nColumn 'szallashely.SZALLAS_NEV' is invalid in the select list because it is not contained in either an aggregate function or the GROUP BY clause.",
                    "ename": "",
                    "traceback": []
                },
                {
                    "output_type": "display_data",
                    "data": {
                        "text/html": "Total execution time: 00:00:00.003"
                    },
                    "metadata": {}
                }
            ],
            "execution_count": 8
        },
        {
            "cell_type": "code",
            "source": [
                "--3. feladat\r\n",
                "\r\n",
                "SELECT SZOBA_FK AS 'Szoba azonosító', YEAR(METTOL) as \"Év\", COUNT(FOGLALAS_PK) AS \"Foglalások száma\"\r\n",
                "FROM Foglalas f JOIN Szoba sz ON f.SZOBA_FK = sz.SZOBA_ID\r\n",
                "WHERE sz.SZOBA_SZAMA % 2 <> 0\r\n",
                "GROUP  BY sz.SZALLAS_FK, YEAR(METTOL)\r\n",
                "HAVING COUNT(f.SZOBA_FK) > 10 \r\n",
                ""
            ],
            "metadata": {
                "azdata_cell_guid": "e56e371c-28fa-4003-b86b-52b84a0314b6",
                "language": "sql"
            },
            "outputs": [
                {
                    "output_type": "error",
                    "evalue": "Msg 8120, Level 16, State 1, Line 3\r\nColumn 'Foglalas.SZOBA_FK' is invalid in the select list because it is not contained in either an aggregate function or the GROUP BY clause.",
                    "ename": "",
                    "traceback": []
                },
                {
                    "output_type": "display_data",
                    "data": {
                        "text/html": "Total execution time: 00:00:00.003"
                    },
                    "metadata": {}
                }
            ],
            "execution_count": 9
        }
    ]
}